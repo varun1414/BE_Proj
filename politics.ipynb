{
  "nbformat": 4,
  "nbformat_minor": 0,
  "metadata": {
    "colab": {
      "name": "politics.ipynb",
      "provenance": [],
      "collapsed_sections": [],
      "authorship_tag": "ABX9TyO3QMxh46F7QeHtuT+7Dw5I",
      "include_colab_link": true
    },
    "kernelspec": {
      "name": "python3",
      "display_name": "Python 3"
    },
    "language_info": {
      "name": "python"
    },
    "accelerator": "GPU"
  },
  "cells": [
    {
      "cell_type": "markdown",
      "metadata": {
        "id": "view-in-github",
        "colab_type": "text"
      },
      "source": [
        "<a href=\"https://colab.research.google.com/github/varun1414/BE_Proj/blob/main/politics.ipynb\" target=\"_parent\"><img src=\"https://colab.research.google.com/assets/colab-badge.svg\" alt=\"Open In Colab\"/></a>"
      ]
    },
    {
      "cell_type": "code",
      "metadata": {
        "id": "vaff--c-PiKt"
      },
      "source": [
        "%reload_ext autoreload\n",
        "%autoreload 2\n",
        "%matplotlib inline"
      ],
      "execution_count": null,
      "outputs": []
    },
    {
      "cell_type": "code",
      "metadata": {
        "colab": {
          "base_uri": "https://localhost:8080/"
        },
        "id": "WT8y_f_vFQGF",
        "outputId": "46d333f2-a413-4ccb-ced7-1137859bde98"
      },
      "source": [
        "from google.colab import drive\n",
        "drive.mount('/content/drive')"
      ],
      "execution_count": null,
      "outputs": [
        {
          "output_type": "stream",
          "text": [
            "Mounted at /content/drive\n"
          ],
          "name": "stdout"
        }
      ]
    },
    {
      "cell_type": "code",
      "metadata": {
        "id": "UWHGRJ9tI3J5"
      },
      "source": [
        "import pandas as pd\n",
        "import seaborn as sns\n"
      ],
      "execution_count": null,
      "outputs": []
    },
    {
      "cell_type": "code",
      "metadata": {
        "id": "s56TyGivF8p2"
      },
      "source": [
        "df1=pd.read_excel('/content/drive/MyDrive/Datasets/Datasets (Varun)/Splitted Datasets/nep_labelled/nep_vedita_1.xlsx')\n",
        "df2=pd.read_csv('/content/drive/MyDrive/Datasets/Datasets (Varun)/Splitted Datasets/nep_labelled/nep_bhushan.csv')\n",
        "df3=pd.read_excel('/content/drive/MyDrive/Datasets/Datasets (Varun)/Splitted Datasets/nep_labelled/nep_nisarg.xlsx')\n",
        "df4=pd.read_csv('/content/drive/MyDrive/Datasets/Datasets (Varun)/Splitted Datasets/nep_labelled/nep_varun_lab.csv')\n",
        "df5=pd.read_csv('/content/drive/MyDrive/Datasets/Datasets (Varun)/Splitted Datasets/nep_labelled/delhi_lab.csv')\n",
        "df2=df2[0:300]\n",
        "df1=df1[0:300]\n",
        "\n"
      ],
      "execution_count": null,
      "outputs": []
    },
    {
      "cell_type": "markdown",
      "metadata": {
        "id": "gov4W4UZaJBa"
      },
      "source": [
        ""
      ]
    },
    {
      "cell_type": "code",
      "metadata": {
        "colab": {
          "base_uri": "https://localhost:8080/"
        },
        "id": "wbSTWfz-XJn6",
        "outputId": "b4b2e53f-198d-4706-cb84-2e73d3bce7f7"
      },
      "source": [
        "df2.Sentiment.unique()"
      ],
      "execution_count": null,
      "outputs": [
        {
          "output_type": "execute_result",
          "data": {
            "text/plain": [
              "array([   0,    1,   -1, 4682])"
            ]
          },
          "metadata": {
            "tags": []
          },
          "execution_count": 439
        }
      ]
    },
    {
      "cell_type": "code",
      "metadata": {
        "colab": {
          "base_uri": "https://localhost:8080/",
          "height": 206
        },
        "id": "RzSONGK6SKAC",
        "outputId": "9cb89625-0287-4c8d-cc6a-0f42fc2678f1"
      },
      "source": [
        "df2.tail()"
      ],
      "execution_count": null,
      "outputs": [
        {
          "output_type": "execute_result",
          "data": {
            "text/html": [
              "<div>\n",
              "<style scoped>\n",
              "    .dataframe tbody tr th:only-of-type {\n",
              "        vertical-align: middle;\n",
              "    }\n",
              "\n",
              "    .dataframe tbody tr th {\n",
              "        vertical-align: top;\n",
              "    }\n",
              "\n",
              "    .dataframe thead th {\n",
              "        text-align: right;\n",
              "    }\n",
              "</style>\n",
              "<table border=\"1\" class=\"dataframe\">\n",
              "  <thead>\n",
              "    <tr style=\"text-align: right;\">\n",
              "      <th></th>\n",
              "      <th>Sentiment</th>\n",
              "      <th>Tweet</th>\n",
              "      <th>Unnamed: 2</th>\n",
              "      <th>Unnamed: 3</th>\n",
              "      <th>Unnamed: 4</th>\n",
              "      <th>Unnamed: 5</th>\n",
              "      <th>Unnamed: 6</th>\n",
              "      <th>Unnamed: 7</th>\n",
              "      <th>Unnamed: 8</th>\n",
              "    </tr>\n",
              "  </thead>\n",
              "  <tbody>\n",
              "    <tr>\n",
              "      <th>295</th>\n",
              "      <td>1</td>\n",
              "      <td>Addressing the finale of the Smart India Hacka...</td>\n",
              "      <td>NaN</td>\n",
              "      <td>NaN</td>\n",
              "      <td>NaN</td>\n",
              "      <td>NaN</td>\n",
              "      <td>NaN</td>\n",
              "      <td>NaN</td>\n",
              "      <td>NaN</td>\n",
              "    </tr>\n",
              "    <tr>\n",
              "      <th>296</th>\n",
              "      <td>1</td>\n",
              "      <td>#NEP2020 focuses not only on local art, educat...</td>\n",
              "      <td>NaN</td>\n",
              "      <td>NaN</td>\n",
              "      <td>NaN</td>\n",
              "      <td>NaN</td>\n",
              "      <td>NaN</td>\n",
              "      <td>NaN</td>\n",
              "      <td>NaN</td>\n",
              "    </tr>\n",
              "    <tr>\n",
              "      <th>297</th>\n",
              "      <td>1</td>\n",
              "      <td>Thanks to #NEP2020.The Indian higher education...</td>\n",
              "      <td>NaN</td>\n",
              "      <td>NaN</td>\n",
              "      <td>NaN</td>\n",
              "      <td>NaN</td>\n",
              "      <td>NaN</td>\n",
              "      <td>NaN</td>\n",
              "      <td>NaN</td>\n",
              "    </tr>\n",
              "    <tr>\n",
              "      <th>298</th>\n",
              "      <td>1</td>\n",
              "      <td>Welcome #NEP2020</td>\n",
              "      <td>NaN</td>\n",
              "      <td>NaN</td>\n",
              "      <td>NaN</td>\n",
              "      <td>NaN</td>\n",
              "      <td>NaN</td>\n",
              "      <td>NaN</td>\n",
              "      <td>NaN</td>\n",
              "    </tr>\n",
              "    <tr>\n",
              "      <th>299</th>\n",
              "      <td>1</td>\n",
              "      <td>#NEP2020 HR team of various recruiting compani...</td>\n",
              "      <td>NaN</td>\n",
              "      <td>NaN</td>\n",
              "      <td>NaN</td>\n",
              "      <td>NaN</td>\n",
              "      <td>NaN</td>\n",
              "      <td>NaN</td>\n",
              "      <td>NaN</td>\n",
              "    </tr>\n",
              "  </tbody>\n",
              "</table>\n",
              "</div>"
            ],
            "text/plain": [
              "     Sentiment  ... Unnamed: 8\n",
              "295          1  ...        NaN\n",
              "296          1  ...        NaN\n",
              "297          1  ...        NaN\n",
              "298          1  ...        NaN\n",
              "299          1  ...        NaN\n",
              "\n",
              "[5 rows x 9 columns]"
            ]
          },
          "metadata": {
            "tags": []
          },
          "execution_count": 440
        }
      ]
    },
    {
      "cell_type": "code",
      "metadata": {
        "id": "eb5pIkZyXNwl"
      },
      "source": [
        "df2=df2[df2['Sentiment']!=4682]"
      ],
      "execution_count": null,
      "outputs": []
    },
    {
      "cell_type": "code",
      "metadata": {
        "colab": {
          "base_uri": "https://localhost:8080/"
        },
        "id": "Kmb9gtzGXah-",
        "outputId": "1e3dcb88-9f0b-475f-b283-08ce0be2d05a"
      },
      "source": [
        "df1.Sentiment.unique()"
      ],
      "execution_count": null,
      "outputs": [
        {
          "output_type": "execute_result",
          "data": {
            "text/plain": [
              "array([ 1,  0, -1])"
            ]
          },
          "metadata": {
            "tags": []
          },
          "execution_count": 442
        }
      ]
    },
    {
      "cell_type": "code",
      "metadata": {
        "id": "DLoeZDPgXmZP"
      },
      "source": [
        "df3=df3.dropna()"
      ],
      "execution_count": null,
      "outputs": []
    },
    {
      "cell_type": "code",
      "metadata": {
        "id": "uwZzDwbxb3Za"
      },
      "source": [
        ""
      ],
      "execution_count": null,
      "outputs": []
    },
    {
      "cell_type": "code",
      "metadata": {
        "colab": {
          "base_uri": "https://localhost:8080/",
          "height": 424
        },
        "id": "VOatILkqbB0V",
        "outputId": "474e1fd7-3017-42f8-def2-966ef4d43016"
      },
      "source": [
        "df5.rename(columns={\"tweet\":\"Tweet\"},inplace=True)\n",
        "df5=df5[[\"Tweet\",\"Sentiment\"]]\n",
        "df5.reset_index(drop=True,inplace=True)\n",
        "df5[\"Sentiment\"]=-1\n",
        "df5"
      ],
      "execution_count": null,
      "outputs": [
        {
          "output_type": "execute_result",
          "data": {
            "text/html": [
              "<div>\n",
              "<style scoped>\n",
              "    .dataframe tbody tr th:only-of-type {\n",
              "        vertical-align: middle;\n",
              "    }\n",
              "\n",
              "    .dataframe tbody tr th {\n",
              "        vertical-align: top;\n",
              "    }\n",
              "\n",
              "    .dataframe thead th {\n",
              "        text-align: right;\n",
              "    }\n",
              "</style>\n",
              "<table border=\"1\" class=\"dataframe\">\n",
              "  <thead>\n",
              "    <tr style=\"text-align: right;\">\n",
              "      <th></th>\n",
              "      <th>Tweet</th>\n",
              "      <th>Sentiment</th>\n",
              "    </tr>\n",
              "  </thead>\n",
              "  <tbody>\n",
              "    <tr>\n",
              "      <th>0</th>\n",
              "      <td>Today's WhatsApp group template ..... The Luty...</td>\n",
              "      <td>-1</td>\n",
              "    </tr>\n",
              "    <tr>\n",
              "      <th>1</th>\n",
              "      <td>The Indian government has failed to quell the ...</td>\n",
              "      <td>-1</td>\n",
              "    </tr>\n",
              "    <tr>\n",
              "      <th>2</th>\n",
              "      <td>It's now obvious that last week's extreme viol...</td>\n",
              "      <td>-1</td>\n",
              "    </tr>\n",
              "    <tr>\n",
              "      <th>3</th>\n",
              "      <td>Sowing seeds of hatred in the young minds is a...</td>\n",
              "      <td>-1</td>\n",
              "    </tr>\n",
              "    <tr>\n",
              "      <th>4</th>\n",
              "      <td>The Indian government has failed to quell the ...</td>\n",
              "      <td>-1</td>\n",
              "    </tr>\n",
              "    <tr>\n",
              "      <th>...</th>\n",
              "      <td>...</td>\n",
              "      <td>...</td>\n",
              "    </tr>\n",
              "    <tr>\n",
              "      <th>28688</th>\n",
              "      <td>Hi\\nI'm a Graphic Designer ready to help you.\\...</td>\n",
              "      <td>-1</td>\n",
              "    </tr>\n",
              "    <tr>\n",
              "      <th>28689</th>\n",
              "      <td>#DelhiRiots #DelhiBurning #DelhiIsBurning pic....</td>\n",
              "      <td>-1</td>\n",
              "    </tr>\n",
              "    <tr>\n",
              "      <th>28690</th>\n",
              "      <td>#2002Gujarat_Delhi2020\\n#DelhiRiots #DelhiBurn...</td>\n",
              "      <td>-1</td>\n",
              "    </tr>\n",
              "    <tr>\n",
              "      <th>28691</th>\n",
              "      <td>#DelhiRiots  https://twitter.com/TurkeyUrdu/st...</td>\n",
              "      <td>-1</td>\n",
              "    </tr>\n",
              "    <tr>\n",
              "      <th>28692</th>\n",
              "      <td>مسلمانوں کے ہزار سالہ دور حکومت میں ایک بھی ہن...</td>\n",
              "      <td>-1</td>\n",
              "    </tr>\n",
              "  </tbody>\n",
              "</table>\n",
              "<p>28693 rows × 2 columns</p>\n",
              "</div>"
            ],
            "text/plain": [
              "                                                   Tweet  Sentiment\n",
              "0      Today's WhatsApp group template ..... The Luty...         -1\n",
              "1      The Indian government has failed to quell the ...         -1\n",
              "2      It's now obvious that last week's extreme viol...         -1\n",
              "3      Sowing seeds of hatred in the young minds is a...         -1\n",
              "4      The Indian government has failed to quell the ...         -1\n",
              "...                                                  ...        ...\n",
              "28688  Hi\\nI'm a Graphic Designer ready to help you.\\...         -1\n",
              "28689  #DelhiRiots #DelhiBurning #DelhiIsBurning pic....         -1\n",
              "28690  #2002Gujarat_Delhi2020\\n#DelhiRiots #DelhiBurn...         -1\n",
              "28691  #DelhiRiots  https://twitter.com/TurkeyUrdu/st...         -1\n",
              "28692  مسلمانوں کے ہزار سالہ دور حکومت میں ایک بھی ہن...         -1\n",
              "\n",
              "[28693 rows x 2 columns]"
            ]
          },
          "metadata": {
            "tags": []
          },
          "execution_count": 444
        }
      ]
    },
    {
      "cell_type": "code",
      "metadata": {
        "id": "0HuFll26X6uI"
      },
      "source": [
        "df=pd.concat([df1[['Tweet','Sentiment']],df2[['Tweet','Sentiment']], df3[['Tweet','Sentiment']],df5[['Tweet','Sentiment']][0:400], df4[['Tweet','Sentiment']][0:400]])\n"
      ],
      "execution_count": null,
      "outputs": []
    },
    {
      "cell_type": "code",
      "metadata": {
        "id": "1ZRRDc5TdX88"
      },
      "source": [
        "df=df.dropna()\n",
        "\n",
        "df\n",
        "df=df[df['Sentiment']!=0]\n",
        "df.reset_index(drop=True,inplace=True)"
      ],
      "execution_count": null,
      "outputs": []
    },
    {
      "cell_type": "code",
      "metadata": {
        "colab": {
          "base_uri": "https://localhost:8080/"
        },
        "id": "TYC7uqwaF-Os",
        "outputId": "ed3dc8eb-2189-445f-e33c-0e8ded983402"
      },
      "source": [
        "df.shape"
      ],
      "execution_count": null,
      "outputs": [
        {
          "output_type": "execute_result",
          "data": {
            "text/plain": [
              "(1457, 2)"
            ]
          },
          "metadata": {
            "tags": []
          },
          "execution_count": 532
        }
      ]
    },
    {
      "cell_type": "code",
      "metadata": {
        "id": "CuLs5InQ3G3-"
      },
      "source": [
        "df['Sentiment'].replace({-1:0},inplace=True)\n",
        "\n",
        "\n"
      ],
      "execution_count": null,
      "outputs": []
    },
    {
      "cell_type": "code",
      "metadata": {
        "colab": {
          "base_uri": "https://localhost:8080/",
          "height": 424
        },
        "id": "tL9v8n4EsPCz",
        "outputId": "8f529d09-ca46-470e-ad02-3c2945db9579"
      },
      "source": [
        "df"
      ],
      "execution_count": null,
      "outputs": [
        {
          "output_type": "execute_result",
          "data": {
            "text/html": [
              "<div>\n",
              "<style scoped>\n",
              "    .dataframe tbody tr th:only-of-type {\n",
              "        vertical-align: middle;\n",
              "    }\n",
              "\n",
              "    .dataframe tbody tr th {\n",
              "        vertical-align: top;\n",
              "    }\n",
              "\n",
              "    .dataframe thead th {\n",
              "        text-align: right;\n",
              "    }\n",
              "</style>\n",
              "<table border=\"1\" class=\"dataframe\">\n",
              "  <thead>\n",
              "    <tr style=\"text-align: right;\">\n",
              "      <th></th>\n",
              "      <th>Tweet</th>\n",
              "      <th>Sentiment</th>\n",
              "    </tr>\n",
              "  </thead>\n",
              "  <tbody>\n",
              "    <tr>\n",
              "      <th>0</th>\n",
              "      <td>Historically #TamilNadu has been a state with ...</td>\n",
              "      <td>1.0</td>\n",
              "    </tr>\n",
              "    <tr>\n",
              "      <th>1</th>\n",
              "      <td>#HelloStrangerEP6 #HarrisonFord #GeorgeFloyd #...</td>\n",
              "      <td>1.0</td>\n",
              "    </tr>\n",
              "    <tr>\n",
              "      <th>2</th>\n",
              "      <td>@PMOIndiaâ€™s anti-democratic #NEP2020 was 400...</td>\n",
              "      <td>0.0</td>\n",
              "    </tr>\n",
              "    <tr>\n",
              "      <th>3</th>\n",
              "      <td>With Rafale India has strengthened it's defenc...</td>\n",
              "      <td>1.0</td>\n",
              "    </tr>\n",
              "    <tr>\n",
              "      <th>4</th>\n",
              "      <td>as soon as this pandemic will end I'm going ba...</td>\n",
              "      <td>1.0</td>\n",
              "    </tr>\n",
              "    <tr>\n",
              "      <th>...</th>\n",
              "      <td>...</td>\n",
              "      <td>...</td>\n",
              "    </tr>\n",
              "    <tr>\n",
              "      <th>1452</th>\n",
              "      <td>4. You bring in vocational education which is ...</td>\n",
              "      <td>0.0</td>\n",
              "    </tr>\n",
              "    <tr>\n",
              "      <th>1453</th>\n",
              "      <td>2. Giving state wise control again shifting th...</td>\n",
              "      <td>0.0</td>\n",
              "    </tr>\n",
              "    <tr>\n",
              "      <th>1454</th>\n",
              "      <td>Dear So called #Hindi Fanatics and #Sanskrit e...</td>\n",
              "      <td>0.0</td>\n",
              "    </tr>\n",
              "    <tr>\n",
              "      <th>1455</th>\n",
              "      <td>Then provide with teachers of these subjects i...</td>\n",
              "      <td>0.0</td>\n",
              "    </tr>\n",
              "    <tr>\n",
              "      <th>1456</th>\n",
              "      <td>The NPE 2020 is power pack strategy for making...</td>\n",
              "      <td>1.0</td>\n",
              "    </tr>\n",
              "  </tbody>\n",
              "</table>\n",
              "<p>1457 rows × 2 columns</p>\n",
              "</div>"
            ],
            "text/plain": [
              "                                                  Tweet  Sentiment\n",
              "0     Historically #TamilNadu has been a state with ...        1.0\n",
              "1     #HelloStrangerEP6 #HarrisonFord #GeorgeFloyd #...        1.0\n",
              "2     @PMOIndiaâ€™s anti-democratic #NEP2020 was 400...        0.0\n",
              "3     With Rafale India has strengthened it's defenc...        1.0\n",
              "4     as soon as this pandemic will end I'm going ba...        1.0\n",
              "...                                                 ...        ...\n",
              "1452  4. You bring in vocational education which is ...        0.0\n",
              "1453  2. Giving state wise control again shifting th...        0.0\n",
              "1454  Dear So called #Hindi Fanatics and #Sanskrit e...        0.0\n",
              "1455  Then provide with teachers of these subjects i...        0.0\n",
              "1456  The NPE 2020 is power pack strategy for making...        1.0\n",
              "\n",
              "[1457 rows x 2 columns]"
            ]
          },
          "metadata": {
            "tags": []
          },
          "execution_count": 534
        }
      ]
    },
    {
      "cell_type": "code",
      "metadata": {
        "id": "mlZAZ6UgafBp",
        "colab": {
          "base_uri": "https://localhost:8080/",
          "height": 279
        },
        "outputId": "92b6b444-bcad-43de-eab4-035480c75cb2"
      },
      "source": [
        "s=sns.countplot(x=\"Sentiment\",data=df)"
      ],
      "execution_count": null,
      "outputs": [
        {
          "output_type": "display_data",
          "data": {
            "image/png": "[encoded data removed]",
            "text/plain": [
              "<Figure size 432x288 with 1 Axes>"
            ]
          },
          "metadata": {
            "tags": [],
            "needs_background": "light"
          }
        }
      ]
    },
    {
      "cell_type": "code",
      "metadata": {
        "colab": {
          "base_uri": "https://localhost:8080/"
        },
        "id": "6VMek5k7poZM",
        "outputId": "3d7af794-fbfc-4ae7-9ff7-8dac242b9a86"
      },
      "source": [
        "X=df['Tweet']\n",
        "Y=df['Sentiment']\n",
        "\n",
        "X"
      ],
      "execution_count": null,
      "outputs": [
        {
          "output_type": "execute_result",
          "data": {
            "text/plain": [
              "0       Historically #TamilNadu has been a state with ...\n",
              "1       #HelloStrangerEP6 #HarrisonFord #GeorgeFloyd #...\n",
              "2       @PMOIndiaâ€™s anti-democratic #NEP2020 was 400...\n",
              "3       With Rafale India has strengthened it's defenc...\n",
              "4       as soon as this pandemic will end I'm going ba...\n",
              "                              ...                        \n",
              "1452    4. You bring in vocational education which is ...\n",
              "1453    2. Giving state wise control again shifting th...\n",
              "1454    Dear So called #Hindi Fanatics and #Sanskrit e...\n",
              "1455    Then provide with teachers of these subjects i...\n",
              "1456    The NPE 2020 is power pack strategy for making...\n",
              "Name: Tweet, Length: 1457, dtype: object"
            ]
          },
          "metadata": {
            "tags": []
          },
          "execution_count": 536
        }
      ]
    },
    {
      "cell_type": "code",
      "metadata": {
        "id": "Y9fNfNu5UfBC"
      },
      "source": [
        "import tensorflow as tf"
      ],
      "execution_count": null,
      "outputs": []
    },
    {
      "cell_type": "code",
      "metadata": {
        "colab": {
          "base_uri": "https://localhost:8080/",
          "height": 36
        },
        "id": "T8VAuo2npI5z",
        "outputId": "cea4870e-a77d-4ee4-a5c8-7f005a7da834"
      },
      "source": [
        "tf.__version__"
      ],
      "execution_count": null,
      "outputs": [
        {
          "output_type": "execute_result",
          "data": {
            "application/vnd.google.colaboratory.intrinsic+json": {
              "type": "string"
            },
            "text/plain": [
              "'2.4.1'"
            ]
          },
          "metadata": {
            "tags": []
          },
          "execution_count": 538
        }
      ]
    },
    {
      "cell_type": "code",
      "metadata": {
        "id": "jvvGh0zSpNNV"
      },
      "source": [
        "from tensorflow.keras.layers import Embedding\n",
        "from tensorflow.keras.preprocessing.sequence import pad_sequences\n",
        "from tensorflow.keras.models import Sequential\n",
        "from tensorflow.keras.preprocessing.text import one_hot\n",
        "from tensorflow.keras.layers import LSTM\n",
        "from tensorflow.keras.layers import Dense"
      ],
      "execution_count": null,
      "outputs": []
    },
    {
      "cell_type": "code",
      "metadata": {
        "id": "IgwwEw9RpWvA"
      },
      "source": [
        "voc_size=100"
      ],
      "execution_count": null,
      "outputs": []
    },
    {
      "cell_type": "code",
      "metadata": {
        "colab": {
          "base_uri": "https://localhost:8080/"
        },
        "id": "FBuCziBqpZZI",
        "outputId": "82a145d1-fe62-4b4d-b933-21ff0fd9c697"
      },
      "source": [
        "import nltk\n",
        "import re\n",
        "from nltk.corpus import stopwords\n",
        "nltk.download('stopwords')\n"
      ],
      "execution_count": null,
      "outputs": [
        {
          "output_type": "stream",
          "text": [
            "[nltk_data] Downloading package stopwords to /root/nltk_data...\n",
            "[nltk_data]   Package stopwords is already up-to-date!\n"
          ],
          "name": "stdout"
        },
        {
          "output_type": "execute_result",
          "data": {
            "text/plain": [
              "True"
            ]
          },
          "metadata": {
            "tags": []
          },
          "execution_count": 541
        }
      ]
    },
    {
      "cell_type": "code",
      "metadata": {
        "colab": {
          "base_uri": "https://localhost:8080/"
        },
        "id": "ZfaOcOKjp-k4",
        "outputId": "c3abbefe-b19f-4165-f6a5-1c0a759bfd43"
      },
      "source": [
        "messages=X.copy()\n",
        "messages"
      ],
      "execution_count": null,
      "outputs": [
        {
          "output_type": "execute_result",
          "data": {
            "text/plain": [
              "0       Historically #TamilNadu has been a state with ...\n",
              "1       #HelloStrangerEP6 #HarrisonFord #GeorgeFloyd #...\n",
              "2       @PMOIndiaâ€™s anti-democratic #NEP2020 was 400...\n",
              "3       With Rafale India has strengthened it's defenc...\n",
              "4       as soon as this pandemic will end I'm going ba...\n",
              "                              ...                        \n",
              "1452    4. You bring in vocational education which is ...\n",
              "1453    2. Giving state wise control again shifting th...\n",
              "1454    Dear So called #Hindi Fanatics and #Sanskrit e...\n",
              "1455    Then provide with teachers of these subjects i...\n",
              "1456    The NPE 2020 is power pack strategy for making...\n",
              "Name: Tweet, Length: 1457, dtype: object"
            ]
          },
          "metadata": {
            "tags": []
          },
          "execution_count": 542
        }
      ]
    },
    {
      "cell_type": "code",
      "metadata": {
        "id": "50qbiAhipiDj"
      },
      "source": [
        "from nltk.stem.porter import PorterStemmer\n",
        "import re\n",
        "ps = PorterStemmer()\n",
        "corpus = []\n",
        "for i in range(0, len(messages)):\n",
        "    #print(i)\n",
        "    review = re.sub(r'(?i)\\b((?:https?://|www\\d{0,3}[.]|[a-z0-9.\\-]+[.][a-z]{2,4}/)(?:[^\\s()<>]+|\\(([^\\s()<>]+|(\\([^\\s()<>]+\\)))*\\))+(?:\\(([^\\s()<>]+|(\\([^\\s()<>]+\\)))*\\)|[^\\s`!()\\[\\]{};:\\'\".,<>?«»“”‘’]))',' ',messages[i])\n",
        "    review = re.sub('[^a-zA-Z]', ' ', review)\n",
        "    review = review.lower()\n",
        "    review = review.split()\n",
        "    \n",
        "    review = [ps.stem(word) for word in review if not word in stopwords.words('english')]\n",
        "    review = ' '.join(review)\n",
        "    corpus.append(review)"
      ],
      "execution_count": null,
      "outputs": []
    },
    {
      "cell_type": "code",
      "metadata": {
        "colab": {
          "base_uri": "https://localhost:8080/"
        },
        "id": "9r5KXaoEp0mA",
        "outputId": "68560e5e-2021-4b6c-dcbf-dd51a3f1d27e"
      },
      "source": [
        "corpus[0:100]"
      ],
      "execution_count": null,
      "outputs": [
        {
          "output_type": "execute_result",
          "data": {
            "text/plain": [
              "['histor tamilnadu state progress socialpolici amp high state privat invest educ without pitfal one best india state involv frame nep alleg surpris',\n",
              " 'hellostrangerep harrisonford georgefloyd jichangwook dishasalian footballindex happyexolday justiceforsush kimsoohyun kimsoohyun galaxyunpack nitishkumar nep happyexolday groth beauti beauty enjoy feel vasu',\n",
              " 'pmoindia anti democrat nep pg draft somehow pg revis want whoever cut polici less origin size read everyth ever wrote darshana',\n",
              " 'rafal india strengthen defenc massiv nep educ realli focu upgrad skill student rather collect degre rafaleinindia nep nationaleducationpolici rajnathsingh drrpnishank',\n",
              " 'soon pandem end go back grade th kculturelko neweducationpolici nep koreancultur languag',\n",
              " 'final advert amiti univers love profession univers air print moreov biggest mafia edu medic uni shall also becom non profit fuck awesom afford mani kid nep',\n",
              " 'nep propel india emerg educ hub real upgrad qualiti human capit help integr industri global suppli chain write indrajit thakurata iim kamathcometh nep industri',\n",
              " 'world best educ polici tamil finland educ system nep viswa media nep nep nationaleducationpolici finland educ polici',\n",
              " 'could better speaker subject like internship one learn basic skill need good academician commonli taught colleg hope nep go fill gap hrdministri academ nation',\n",
              " 'seriou need educt reform read tweet wholeheartedli welcom nep everyon know right bharat ye madam rammandir',\n",
              " 'nep reconstruct varnashrama brahmin never ever genuin nep exampl tnrejectsnep rejectnep',\n",
              " 'new america journal aliv india die decad ago call india top journalist utter word flaw nep els expect nation religion matter educ trp matter ethic',\n",
              " 'rejectnep trend twitter rubbish thing seen recent realli dishearten see silli critic polit agenda progress polici like nep read analyz suggest altern see flaw',\n",
              " 'narendramodi thank much mani congratul nep feel incred know govern acknowledg date polici etc afraid bring chang requir indiaoffutur',\n",
              " 'kv teacherrecruit latest news kendriyavidyalaya might chang medium instruct per neweducationpolici nep via jagranjosh',\n",
              " 'dear parent readi employ child labour futur oppos rejectnep nep rejectnep',\n",
              " 'protest anti student nation educ polici comrad bengal sfi chakdaha east lc protestact rejectnep nep',\n",
              " 'pm reput construct co said demand good engin suppli qualiti poor yr later still say despair mani engin write simpl paragraph explain specif nep',\n",
              " 'news local languag tamil medium follow th std question central govt school kv also teach local languag an hindi hindi nep stophindiimposit hindiisnotnationallanguag',\n",
              " 'listen guy across tamilnadu fake twitter account float demoralis tamilian land proper channel show genuin sourc also caution state prepar elect nep god almighti tamilian tn',\n",
              " 'neweducationpolici approv cabinet hope overhaul indian educ system hit seri controversi expert howev say real problem lack oper detail nep nep nationaleducationpolici tamannainamdar',\n",
              " 'year bhartiya janta parti bjp undergon massiv reform bjp work unstintingli toward better indian peopl rammandir rafal nep caa galwan banchineseapp tripletalaq',\n",
              " 'youtub everyth need know nation educ polici nep fay souza',\n",
              " 'polici aim remov inequ urban rural centr educ prof manoj dixit former vice chancellor awadh univers faizabad manojdixit gsipsa pmoindia drrpnishank ugc india hrdministri nep nep roadmap',\n",
              " 'accept nep search tamil love love sir rememb brother srilankan past life sir till get justic death sir given voic burdal murder sir indian except tamil voic sir',\n",
              " 'school establish close reason student wonder come nearbi privat school less qualifi teacher attract student establish school righttoeduc nep hrdministri dr arunsahoo smeodisha',\n",
              " 'onlin class pick india fair amount resourc rural kid even urbanit altern look like educ least prioriti today righttoeduc nep hrdministri dr arunsahoo smeodisha',\n",
              " 'phil discontinu hua h invalid nahi hua mean abh se ye cours padhaya nahi jayega mean k abh tak k sab phil degre invalid hogay stop ask k abh hamara kya hoga letstalk nep',\n",
              " 'nep foundat stone new india pleas make work session onward drrpnishank narendramodi rashtrapatibhvn',\n",
              " 'nep platon view learn ritika chauhan propos resolut requir clear understand articul implement subject sustain critic nep educationpolici educ educationmatt',\n",
              " 'buddi answer question yet read nep show say imposit want target nativ languag narr let see mine hp pahari commun languag well note previou tweet',\n",
              " 'well said sir rahulkanw n noth bad learn new languag help way n appreci govern n nep need work start hope bring polici action educationpolici',\n",
              " 'playtolearn alway idea happi see nep highlight play base learn year push agenda toybank feel motiv',\n",
              " 'view also shd implement immedi whichev school violat law school licens cancel oureduc ourright jambavantv nep',\n",
              " 'vision matter thank gsipsa sir take initi well advanc mgcubihar lead front deliber implement strategi nep hrdministri drrpnishank ugc india rashtrapatibhvn pmoindia vpsecretariat narendramodi nitishkumar',\n",
              " 'choic far understand nep make sanskrit made avail mandatorili studi choic guess regardless vital eras misconcept propaganda demonis languag nep step direct',\n",
              " 'tn govt conven cabinet minist meet take polici decis new educ polici uphold modern cast centric educ system seeman tnrejectsnep nep tngovt',\n",
              " 'even nasa agre import sanskrit irrat smarter guess supportnep nep',\n",
              " 'hrdministri problem nep languag issu threelanguagepolici fine foreign languag ad third languag scheme otherwis seem like indirectli impos hindi sanskrit tn tnrejectsnep',\n",
              " 'follow trail properli clarifi read nep complet understand clearli show say imposit hindi localit forgot local dialect speak north indian',\n",
              " 'good discuss nsui nob state presid presenc c guptar ji np neerajkundan ji discuss org way forward thank aicc research depart chairman rajeevgowda ji lenijadhav ji valuabl input nep',\n",
              " 'first rafal nep tomorrow rammandir truli amaz journey societi nation amp civilis renaiss mean thank narendramodi amp countless desh bhakth toil behind scene blsanthosh',\n",
              " 'one day one day go happi moment indian first rafal thn nep tomorrow rammandir truli amaz journey societi nation amp civilis renaiss mean thnk u narendramodi amp countless desh bhakth toil behind scene',\n",
              " 'educationpolici chang india student learn new thing person think bhagavadgita also taught student state indiantradit valu opinion guy indiaeduc nep educ',\n",
              " 'one salient featur new nation educ polici shift decad old format keep mind child develop capabl nep',\n",
              " 'strongli back tamil nadu decad old two languag polici rule admkpudukkottai state monday reject centr three languag formula propos nep said deviat exist system take strong except propos',\n",
              " 'harm need plm current educ system enough us nep increas pvt coach center around india bcz state level test need rd th also th student lot stress happen make student discontinu',\n",
              " 'abrogationanniversari rafal nep amp tomorrow rammandir truli amaz journey societi nation amp civilis renaiss mean thank narendramodi amp countless desh bhakth toil behind scene',\n",
              " 'sir realli appreci nep new govern school start anganwadi privat school alreadi nurseri onward govern must review syllabu amp enforc proper govern ke sure educ burden fact b fun',\n",
              " 'thank much sir rajeevgowda ji lenijadhav di enlighten us view point nep small hidden languag realli challeng thing understand',\n",
              " 'reform propos part new nation educ polici nep abil significantli chang qualiti deliveri higher educ india sannam delia heneghan intl higher studyinindia tne edtech nep',\n",
              " 'global educ develop agenda reflect goal sdg agenda sustain develop adopt india seek ensur inclus equit qualiti educ promot lifelong learn opportun nep',\n",
              " 'pmoindia narendramodi sir tou say mannkibaat bat also listen mannkibaat peopl gave vote elect nsitharaman drrpnishank nep suffici covid relax given student http',\n",
              " 'first rafal nep tomorrow rammandir truli amaz journey societi nation amp civilis renaiss mean thank narendramodi amp countless desh bhakth toil behind scene ayodhya ayodhyabhoomipoojan',\n",
              " 'excel eye open nep rich privat school teach rd languag poor kid govern school learn rd languag choic',\n",
              " 'nep could sure revolutionis educ landscap activ engag stakehold sdg classroom critic educ ensur success amp truli make diff let join movement better world us strongertogeth un',\n",
              " 'look good realli root work nep',\n",
              " 'first rafal nep tomorrow rammandir truli amaz journey societi nation amp civilis renaiss mean thank narendramodi amp countless desh bhakth toil behind scene',\n",
              " 'eia peopl opinion import nep right learn rd languag say polit hypocrisi isupportnep nep',\n",
              " 'welcom new educ polici realli shape career kid futur howev request politic polici southern state student suffer futur thank nep',\n",
              " 'excit enrich discuss great effort educ energi awesom fuel effort ground great solidar enabl scale movement sdgchoupal shalini dp abhilashatochi kapoor divya riseup sdg edchatind teachsdg edchateu nep',\n",
              " 'nep master year gov tri best wast anoth year graduat batch',\n",
              " 'want get year old get educ new nation educ polici begin satyavachan yahisatyahai supportnep nep nationaleducationpolici',\n",
              " 'exactli learn becom easier nep sdgchoupal',\n",
              " 'thankyou kapoor divya sel nep sdgchoupal',\n",
              " 'bjp leader alreadi declar beg busi worth thousand crore busi flourish incompet govern ruin economi nep talent drain happen sure worri new templ',\n",
              " 'dr saab flexibl younger need work load present promot polici tie student system result energi wastag innov loss thu nep ray hope senior virtu excel tradiat way age bring huge chang',\n",
              " 'econom issu good trend hashtag nep eia covid india poverti gdp kashmir',\n",
              " 'nep provid ampl opportun explor experiment includ global dimens sdg classroom mostli import give scope flexibl sdgchoupal dp shalini',\n",
              " 'shameless karnataka rakshna bedik shameless karuv kaarya karthru pro kannada activist peopl root hindi sanskrit strengthen karnataka name nep peopl sleep get kannada peopl get karnataka',\n",
              " 'rammandirayodhya first rafal nep tomorrow rammandir truli amaz journey societi nation amp civilis renaiss mean thank narendramodi amp bjp countless desh bhakth toil behind scene',\n",
              " 'nep tn govt want destroy futur student let object nep ambit student learn languag cost deni sheer polit act cmotamilnadu mkstalin arivalayam rajinikanth modiarmi bjp tamilnadu',\n",
              " 'final much need reform educ polici anoth great decis honur prime minist narendramodi pmoindia amitshah nep educationpolici educationpolici',\n",
              " 'nep art integr approach strengthen linkag educ cultur',\n",
              " 'student learn agricultur compulsori subject like studi compulsori pg pg get certi agri conspiraci creat skill labor govern colleg close busi start nep',\n",
              " 'final move forward rafal nep rammandirayodhya remain histor year covid also reform civil amp india thank pm narendramodi ji amp citizen relentless pursuit revolut',\n",
              " 'bollywood must dismantl reassembl like nep new bharat dirti amp poison blood run thru bodi politi amp countri need cleans obstruct justiceforsushantsingrajput unpreced pmoindia narendramodi ji bjp india',\n",
              " 'quantiti qualiti nep increas focu foundat literaci numeraci compet base learn student learn learn bring metacognit curriculum content reduc core essenti emphasi constructivist',\n",
              " 'structur definit bring paradigm shift much need shirt video explain well think need creat awar good one hrdministri educationpolici nep',\n",
              " 'entir silent question kashmiri student whose educ jeopard year curfew errat school closur gener life traumat draconian law educ kashmiri student nationaleducationpolici nep',\n",
              " 'peopl oppos new nation educ polici rejectnep trend govt reason r chang educ polici nep',\n",
              " 'neweducationpolici nep encourag student work latest technolog includ spiritu studi like yoga amp medit along ncc amp educ system promot atmanirbharbharat',\n",
              " 'nation educ polici draft includ mention jammu kashmir north eastern state special provis made includ area conflict persist nep nationaleducationpolici',\n",
              " 'govern aim fulfil digit divid propos percent budget increas compani contact fund subsidis cost laptop mobil phone tablet internet connect nationaleducationpolici nep',\n",
              " 'far access educ concern percent govern school india access comput abysm percent total internet connect nep nationaleducationpolici',\n",
              " 'countri fluenci english consid top indic merit sub filter econom opportun student arent well vers english wl rob opportun escap brutal despond creat cast class discrimn nep',\n",
              " 'conveni impli student incorpor massiv chang instruct student dalit bahujan adivasi student whose futur jeopard nep',\n",
              " 'predominantli leav chang incorpor state school govern school student margin section minor studi nep',\n",
              " 'gov appar intend increas spend educ gdp current modi regim edu budget reduc minim deduct scholarship higher educ well budget alloc research dept nep',\n",
              " 'ask question hour polici realli point saffron patronag polici nep fayedsouza msisodia shashitharoor',\n",
              " 'nep next big thing would chang nation feel jealou',\n",
              " 'keep debat suit propaganda madam anyth relat sanatan dharm regress oppress like howev work peopl chose dalit way attack sanatan dharm indirectli keep work nep',\n",
              " 'bring vocat educ better term give degre subject accru minim labour henc english go go back year improv nep timesnow republ',\n",
              " 'dear call hindi fanat sanskrit extremist kindli teach hindi peopl uttarpradesh bihar tri impos non hindi state name nep tnrejectsnep',\n",
              " 'provid teacher subject govern school support nep',\n",
              " 'npe power pack strategi make india global leader bharat speak hindi english bhojpuri ye choic hope implement possibl manner reach everi corner bharat drrpnishank nep newindia',\n",
              " 'nep new educ polici detail analysi student india major positivechang student studi school amp colleg watch full video nep amp share video youthaajk nep',\n",
              " 'mani rd student start master cours india even finish bachelor yet thank joke delhiuniversit made live give us degre alreadi ruin imag studentlivesmatt cancelallexam nep',\n",
              " 'polici tackl reason dropout travel world take gap year sheer econom despond forc student inform labour nep',\n",
              " 'emphasi vocat train multipl exit option noth materi assert cast system dropout rate even curtail govern incentiv dropout provid multipl exit option nep']"
            ]
          },
          "metadata": {
            "tags": []
          },
          "execution_count": 546
        }
      ]
    },
    {
      "cell_type": "code",
      "metadata": {
        "id": "k8J4Ev4iquff"
      },
      "source": [
        "onehot_repr=[one_hot(words,voc_size)for words in corpus] "
      ],
      "execution_count": null,
      "outputs": []
    },
    {
      "cell_type": "code",
      "metadata": {
        "colab": {
          "base_uri": "https://localhost:8080/"
        },
        "id": "6mfjNX7vq3Ml",
        "outputId": "03654c64-d7a6-443c-fba1-48a5227edd0e"
      },
      "source": [
        "\n",
        "\n",
        "sent_length=100\n",
        "embedded_docs=pad_sequences(onehot_repr,padding='pre',maxlen=sent_length)\n",
        "print(embedded_docs)\n",
        "\n"
      ],
      "execution_count": null,
      "outputs": [
        {
          "output_type": "stream",
          "text": [
            "[[ 0  0  0 ... 42  4 83]\n",
            " [ 0  0  0 ... 42 82 48]\n",
            " [ 0  0  0 ... 27 70 75]\n",
            " ...\n",
            " [ 0  0  0 ... 73 42 66]\n",
            " [ 0  0  0 ... 85 56 42]\n",
            " [ 0  0  0 ... 17 42  5]]\n"
          ],
          "name": "stdout"
        }
      ]
    },
    {
      "cell_type": "code",
      "metadata": {
        "colab": {
          "base_uri": "https://localhost:8080/"
        },
        "id": "Sj3KkH4nq9bf",
        "outputId": "c14fd016-7418-49ea-91e4-eae446adee56"
      },
      "source": [
        "embedded_docs[0]"
      ],
      "execution_count": null,
      "outputs": [
        {
          "output_type": "execute_result",
          "data": {
            "text/plain": [
              "array([ 0,  0,  0,  0,  0,  0,  0,  0,  0,  0,  0,  0,  0,  0,  0,  0,  0,\n",
              "        0,  0,  0,  0,  0,  0,  0,  0,  0,  0,  0,  0,  0,  0,  0,  0,  0,\n",
              "        0,  0,  0,  0,  0,  0,  0,  0,  0,  0,  0,  0,  0,  0,  0,  0,  0,\n",
              "        0,  0,  0,  0,  0,  0,  0,  0,  0,  0,  0,  0,  0,  0,  0,  0,  0,\n",
              "        0,  0,  0,  0,  0,  0,  0,  0,  0,  0, 62, 45, 23, 29, 95, 74, 30,\n",
              "       23, 88, 79,  2,  2, 49, 25, 45, 28, 23, 84, 56, 42,  4, 83],\n",
              "      dtype=int32)"
            ]
          },
          "metadata": {
            "tags": []
          },
          "execution_count": 549
        }
      ]
    },
    {
      "cell_type": "code",
      "metadata": {
        "colab": {
          "base_uri": "https://localhost:8080/"
        },
        "id": "Gf-Gwubbq_wE",
        "outputId": "09d8e3eb-5f6b-425f-a122-908f2bbf420e"
      },
      "source": [
        "embedding_vector_features=300\n",
        "model=Sequential()\n",
        "model.add(Embedding(voc_size,embedding_vector_features,input_length=sent_length))\n",
        "model.add(LSTM(300))\n",
        "model.add(Dense(1,activation='sigmoid'))    \n",
        "# model.add(Dense(3,activation='softmax'))\n",
        "model.compile(loss='binary_crossentropy',optimizer='adam',metrics=['accuracy'])\n",
        "print(model.summary())"
      ],
      "execution_count": null,
      "outputs": [
        {
          "output_type": "stream",
          "text": [
            "Model: \"sequential_41\"\n",
            "_________________________________________________________________\n",
            "Layer (type)                 Output Shape              Param #   \n",
            "=================================================================\n",
            "embedding_41 (Embedding)     (None, 100, 300)          30000     \n",
            "_________________________________________________________________\n",
            "lstm_41 (LSTM)               (None, 300)               721200    \n",
            "_________________________________________________________________\n",
            "dense_44 (Dense)             (None, 1)                 301       \n",
            "=================================================================\n",
            "Total params: 751,501\n",
            "Trainable params: 751,501\n",
            "Non-trainable params: 0\n",
            "_________________________________________________________________\n",
            "None\n"
          ],
          "name": "stdout"
        }
      ]
    },
    {
      "cell_type": "code",
      "metadata": {
        "colab": {
          "base_uri": "https://localhost:8080/"
        },
        "id": "LOQOMKCFrCLz",
        "outputId": "b0cf85b7-775c-4b54-fe6d-7c2cd77f841e"
      },
      "source": [
        "\n",
        "\n",
        "\n",
        "\n",
        "len(embedded_docs),Y.shape\n",
        "\n",
        "Y"
      ],
      "execution_count": null,
      "outputs": [
        {
          "output_type": "execute_result",
          "data": {
            "text/plain": [
              "0       1.0\n",
              "1       1.0\n",
              "2       0.0\n",
              "3       1.0\n",
              "4       1.0\n",
              "       ... \n",
              "1452    0.0\n",
              "1453    0.0\n",
              "1454    0.0\n",
              "1455    0.0\n",
              "1456    1.0\n",
              "Name: Sentiment, Length: 1457, dtype: float64"
            ]
          },
          "metadata": {
            "tags": []
          },
          "execution_count": 551
        }
      ]
    },
    {
      "cell_type": "code",
      "metadata": {
        "colab": {
          "base_uri": "https://localhost:8080/"
        },
        "id": "ZM8P-KjMrEpX",
        "outputId": "d11346c2-1541-41b7-ca21-d53fa022146f"
      },
      "source": [
        "\n",
        "\n",
        "import numpy as np\n",
        "\n",
        "X_final=np.array(embedded_docs)\n",
        "y_final=np.array(Y)\n",
        "y_final"
      ],
      "execution_count": null,
      "outputs": [
        {
          "output_type": "execute_result",
          "data": {
            "text/plain": [
              "array([1., 1., 0., ..., 0., 0., 1.])"
            ]
          },
          "metadata": {
            "tags": []
          },
          "execution_count": 557
        }
      ]
    },
    {
      "cell_type": "code",
      "metadata": {
        "colab": {
          "base_uri": "https://localhost:8080/"
        },
        "id": "KU-8L133rJ3B",
        "outputId": "b8b7ea84-2f0e-4943-b1cd-a7565be57b22"
      },
      "source": [
        "X_final.shape,y_final.shape"
      ],
      "execution_count": null,
      "outputs": [
        {
          "output_type": "execute_result",
          "data": {
            "text/plain": [
              "((1457, 100), (1457,))"
            ]
          },
          "metadata": {
            "tags": []
          },
          "execution_count": 558
        }
      ]
    },
    {
      "cell_type": "code",
      "metadata": {
        "id": "5aZYUmIArLxR"
      },
      "source": [
        "from sklearn.model_selection import train_test_split\n",
        "X_train, X_test, y_train, y_test = train_test_split(X_final, y_final, test_size=0.33, random_state=42)\n"
      ],
      "execution_count": null,
      "outputs": []
    },
    {
      "cell_type": "code",
      "metadata": {
        "colab": {
          "base_uri": "https://localhost:8080/"
        },
        "id": "vSuIsNuOrO-t",
        "outputId": "94671880-595f-4ee7-c2fc-d0fae5b6eb70"
      },
      "source": [
        "### Finally Training\n",
        "model.fit(X_train,y_train,validation_data=(X_test,y_test),epochs=10,batch_size=64)\n",
        "\n"
      ],
      "execution_count": null,
      "outputs": [
        {
          "output_type": "stream",
          "text": [
            "Epoch 1/10\n",
            "16/16 [==============================] - 2s 40ms/step - loss: 0.6888 - accuracy: 0.5606 - val_loss: 0.6596 - val_accuracy: 0.5676\n",
            "Epoch 2/10\n",
            "16/16 [==============================] - 0s 17ms/step - loss: 0.6427 - accuracy: 0.6155 - val_loss: 0.5959 - val_accuracy: 0.6778\n",
            "Epoch 3/10\n",
            "16/16 [==============================] - 0s 16ms/step - loss: 0.5711 - accuracy: 0.7279 - val_loss: 0.5104 - val_accuracy: 0.7464\n",
            "Epoch 4/10\n",
            "16/16 [==============================] - 0s 14ms/step - loss: 0.4715 - accuracy: 0.7985 - val_loss: 0.5154 - val_accuracy: 0.7588\n",
            "Epoch 5/10\n",
            "16/16 [==============================] - 0s 14ms/step - loss: 0.4493 - accuracy: 0.8090 - val_loss: 0.4667 - val_accuracy: 0.7838\n",
            "Epoch 6/10\n",
            "16/16 [==============================] - 0s 14ms/step - loss: 0.4152 - accuracy: 0.8030 - val_loss: 0.4620 - val_accuracy: 0.7879\n",
            "Epoch 7/10\n",
            "16/16 [==============================] - 0s 14ms/step - loss: 0.4084 - accuracy: 0.8137 - val_loss: 0.4529 - val_accuracy: 0.8108\n",
            "Epoch 8/10\n",
            "16/16 [==============================] - 0s 14ms/step - loss: 0.3945 - accuracy: 0.8318 - val_loss: 0.4487 - val_accuracy: 0.8025\n",
            "Epoch 9/10\n",
            "16/16 [==============================] - 0s 14ms/step - loss: 0.3692 - accuracy: 0.8492 - val_loss: 0.4351 - val_accuracy: 0.8087\n",
            "Epoch 10/10\n",
            "16/16 [==============================] - 0s 12ms/step - loss: 0.3555 - accuracy: 0.8407 - val_loss: 0.4328 - val_accuracy: 0.8129\n"
          ],
          "name": "stdout"
        },
        {
          "output_type": "execute_result",
          "data": {
            "text/plain": [
              "<tensorflow.python.keras.callbacks.History at 0x7f0aa1efb790>"
            ]
          },
          "metadata": {
            "tags": []
          },
          "execution_count": 560
        }
      ]
    },
    {
      "cell_type": "code",
      "metadata": {
        "id": "bBO2BbjWrRtX"
      },
      "source": [
        "\n",
        "\n",
        "from tensorflow.keras.layers import Dropout\n",
        "## Creating model\n",
        "embedding_vector_features=40\n",
        "model=Sequential()\n",
        "model.add(Embedding(voc_size,embedding_vector_features,input_length=sent_length))\n",
        "model.add(Dropout(0.3))\n",
        "model.add(LSTM(100))\n",
        "model.add(Dropout(0.3))\n",
        "model.add(Dense(1,activation='sigmoid'))\n",
        "model.compile(loss='binary_crossentropy',optimizer='adam',metrics=['accuracy'])\n",
        "\n"
      ],
      "execution_count": null,
      "outputs": []
    },
    {
      "cell_type": "code",
      "metadata": {
        "colab": {
          "base_uri": "https://localhost:8080/"
        },
        "id": "XV6jAGQPrgqG",
        "outputId": "211a4026-1d45-41ce-f34e-46fc12d1aae7"
      },
      "source": [
        "\n",
        "\n",
        "y_pred=model.predict_classes(X_test)\n",
        "y_pred\n"
      ],
      "execution_count": null,
      "outputs": [
        {
          "output_type": "stream",
          "text": [
            "/usr/local/lib/python3.7/dist-packages/tensorflow/python/keras/engine/sequential.py:450: UserWarning: `model.predict_classes()` is deprecated and will be removed after 2021-01-01. Please use instead:* `np.argmax(model.predict(x), axis=-1)`,   if your model does multi-class classification   (e.g. if it uses a `softmax` last-layer activation).* `(model.predict(x) > 0.5).astype(\"int32\")`,   if your model does binary classification   (e.g. if it uses a `sigmoid` last-layer activation).\n",
            "  warnings.warn('`model.predict_classes()` is deprecated and '\n"
          ],
          "name": "stderr"
        },
        {
          "output_type": "execute_result",
          "data": {
            "text/plain": [
              "array([[1],\n",
              "       [1],\n",
              "       [1],\n",
              "       [0],\n",
              "       [0],\n",
              "       [1],\n",
              "       [1],\n",
              "       [1],\n",
              "       [1],\n",
              "       [0],\n",
              "       [0],\n",
              "       [0],\n",
              "       [1],\n",
              "       [1],\n",
              "       [0],\n",
              "       [0],\n",
              "       [1],\n",
              "       [1],\n",
              "       [1],\n",
              "       [1],\n",
              "       [1],\n",
              "       [0],\n",
              "       [0],\n",
              "       [0],\n",
              "       [1],\n",
              "       [1],\n",
              "       [1],\n",
              "       [1],\n",
              "       [0],\n",
              "       [0],\n",
              "       [1],\n",
              "       [1],\n",
              "       [0],\n",
              "       [1],\n",
              "       [0],\n",
              "       [1],\n",
              "       [1],\n",
              "       [0],\n",
              "       [1],\n",
              "       [1],\n",
              "       [1],\n",
              "       [1],\n",
              "       [0],\n",
              "       [0],\n",
              "       [1],\n",
              "       [1],\n",
              "       [1],\n",
              "       [1],\n",
              "       [1],\n",
              "       [0],\n",
              "       [1],\n",
              "       [1],\n",
              "       [1],\n",
              "       [1],\n",
              "       [0],\n",
              "       [1],\n",
              "       [0],\n",
              "       [0],\n",
              "       [0],\n",
              "       [1],\n",
              "       [1],\n",
              "       [1],\n",
              "       [1],\n",
              "       [1],\n",
              "       [1],\n",
              "       [1],\n",
              "       [0],\n",
              "       [1],\n",
              "       [1],\n",
              "       [1],\n",
              "       [0],\n",
              "       [1],\n",
              "       [1],\n",
              "       [1],\n",
              "       [1],\n",
              "       [0],\n",
              "       [0],\n",
              "       [0],\n",
              "       [1],\n",
              "       [1],\n",
              "       [1],\n",
              "       [1],\n",
              "       [1],\n",
              "       [0],\n",
              "       [0],\n",
              "       [1],\n",
              "       [1],\n",
              "       [1],\n",
              "       [0],\n",
              "       [1],\n",
              "       [0],\n",
              "       [1],\n",
              "       [1],\n",
              "       [1],\n",
              "       [0],\n",
              "       [1],\n",
              "       [1],\n",
              "       [1],\n",
              "       [1],\n",
              "       [1],\n",
              "       [1],\n",
              "       [0],\n",
              "       [1],\n",
              "       [1],\n",
              "       [1],\n",
              "       [1],\n",
              "       [0],\n",
              "       [1],\n",
              "       [0],\n",
              "       [0],\n",
              "       [1],\n",
              "       [1],\n",
              "       [1],\n",
              "       [1],\n",
              "       [1],\n",
              "       [1],\n",
              "       [1],\n",
              "       [0],\n",
              "       [1],\n",
              "       [1],\n",
              "       [0],\n",
              "       [1],\n",
              "       [1],\n",
              "       [1],\n",
              "       [1],\n",
              "       [0],\n",
              "       [0],\n",
              "       [0],\n",
              "       [0],\n",
              "       [1],\n",
              "       [1],\n",
              "       [1],\n",
              "       [1],\n",
              "       [0],\n",
              "       [0],\n",
              "       [0],\n",
              "       [0],\n",
              "       [1],\n",
              "       [0],\n",
              "       [1],\n",
              "       [1],\n",
              "       [0],\n",
              "       [0],\n",
              "       [0],\n",
              "       [1],\n",
              "       [1],\n",
              "       [0],\n",
              "       [1],\n",
              "       [1],\n",
              "       [1],\n",
              "       [0],\n",
              "       [1],\n",
              "       [1],\n",
              "       [0],\n",
              "       [1],\n",
              "       [1],\n",
              "       [0],\n",
              "       [1],\n",
              "       [1],\n",
              "       [1],\n",
              "       [1],\n",
              "       [1],\n",
              "       [0],\n",
              "       [1],\n",
              "       [0],\n",
              "       [0],\n",
              "       [0],\n",
              "       [1],\n",
              "       [1],\n",
              "       [0],\n",
              "       [1],\n",
              "       [1],\n",
              "       [0],\n",
              "       [1],\n",
              "       [1],\n",
              "       [0],\n",
              "       [1],\n",
              "       [1],\n",
              "       [1],\n",
              "       [0],\n",
              "       [1],\n",
              "       [1],\n",
              "       [1],\n",
              "       [1],\n",
              "       [1],\n",
              "       [0],\n",
              "       [1],\n",
              "       [0],\n",
              "       [1],\n",
              "       [1],\n",
              "       [1],\n",
              "       [1],\n",
              "       [1],\n",
              "       [0],\n",
              "       [0],\n",
              "       [0],\n",
              "       [0],\n",
              "       [0],\n",
              "       [1],\n",
              "       [1],\n",
              "       [1],\n",
              "       [0],\n",
              "       [1],\n",
              "       [0],\n",
              "       [0],\n",
              "       [1],\n",
              "       [0],\n",
              "       [0],\n",
              "       [1],\n",
              "       [0],\n",
              "       [1],\n",
              "       [0],\n",
              "       [0],\n",
              "       [1],\n",
              "       [1],\n",
              "       [1],\n",
              "       [1],\n",
              "       [0],\n",
              "       [0],\n",
              "       [0],\n",
              "       [1],\n",
              "       [1],\n",
              "       [0],\n",
              "       [0],\n",
              "       [1],\n",
              "       [1],\n",
              "       [0],\n",
              "       [0],\n",
              "       [0],\n",
              "       [1],\n",
              "       [0],\n",
              "       [1],\n",
              "       [1],\n",
              "       [0],\n",
              "       [1],\n",
              "       [1],\n",
              "       [1],\n",
              "       [1],\n",
              "       [1],\n",
              "       [1],\n",
              "       [0],\n",
              "       [1],\n",
              "       [1],\n",
              "       [1],\n",
              "       [1],\n",
              "       [1],\n",
              "       [0],\n",
              "       [1],\n",
              "       [1],\n",
              "       [1],\n",
              "       [1],\n",
              "       [0],\n",
              "       [0],\n",
              "       [1],\n",
              "       [1],\n",
              "       [0],\n",
              "       [1],\n",
              "       [1],\n",
              "       [1],\n",
              "       [1],\n",
              "       [0],\n",
              "       [1],\n",
              "       [1],\n",
              "       [1],\n",
              "       [1],\n",
              "       [0],\n",
              "       [1],\n",
              "       [0],\n",
              "       [1],\n",
              "       [1],\n",
              "       [1],\n",
              "       [1],\n",
              "       [1],\n",
              "       [1],\n",
              "       [1],\n",
              "       [1],\n",
              "       [0],\n",
              "       [1],\n",
              "       [0],\n",
              "       [0],\n",
              "       [1],\n",
              "       [0],\n",
              "       [0],\n",
              "       [1],\n",
              "       [0],\n",
              "       [0],\n",
              "       [1],\n",
              "       [1],\n",
              "       [1],\n",
              "       [1],\n",
              "       [0],\n",
              "       [0],\n",
              "       [1],\n",
              "       [1],\n",
              "       [1],\n",
              "       [0],\n",
              "       [1],\n",
              "       [1],\n",
              "       [1],\n",
              "       [1],\n",
              "       [1],\n",
              "       [0],\n",
              "       [0],\n",
              "       [1],\n",
              "       [0],\n",
              "       [0],\n",
              "       [1],\n",
              "       [1],\n",
              "       [0],\n",
              "       [0],\n",
              "       [0],\n",
              "       [0],\n",
              "       [1],\n",
              "       [1],\n",
              "       [1],\n",
              "       [0],\n",
              "       [0],\n",
              "       [1],\n",
              "       [0],\n",
              "       [1],\n",
              "       [1],\n",
              "       [1],\n",
              "       [1],\n",
              "       [0],\n",
              "       [0],\n",
              "       [1],\n",
              "       [0],\n",
              "       [0],\n",
              "       [0],\n",
              "       [1],\n",
              "       [1],\n",
              "       [1],\n",
              "       [1],\n",
              "       [1],\n",
              "       [1],\n",
              "       [0],\n",
              "       [0],\n",
              "       [1],\n",
              "       [0],\n",
              "       [1],\n",
              "       [1],\n",
              "       [1],\n",
              "       [1],\n",
              "       [1],\n",
              "       [1],\n",
              "       [1],\n",
              "       [1],\n",
              "       [0],\n",
              "       [1],\n",
              "       [1],\n",
              "       [0],\n",
              "       [0],\n",
              "       [1],\n",
              "       [1],\n",
              "       [1],\n",
              "       [0],\n",
              "       [1],\n",
              "       [0],\n",
              "       [1],\n",
              "       [1],\n",
              "       [1],\n",
              "       [1],\n",
              "       [0],\n",
              "       [0],\n",
              "       [0],\n",
              "       [0],\n",
              "       [1],\n",
              "       [0],\n",
              "       [1],\n",
              "       [0],\n",
              "       [0],\n",
              "       [0],\n",
              "       [0],\n",
              "       [1],\n",
              "       [0],\n",
              "       [1],\n",
              "       [1],\n",
              "       [1],\n",
              "       [0],\n",
              "       [1],\n",
              "       [1],\n",
              "       [1],\n",
              "       [1],\n",
              "       [0],\n",
              "       [0],\n",
              "       [1],\n",
              "       [1],\n",
              "       [1],\n",
              "       [1],\n",
              "       [1],\n",
              "       [1],\n",
              "       [1],\n",
              "       [1],\n",
              "       [1],\n",
              "       [0],\n",
              "       [0],\n",
              "       [1],\n",
              "       [1],\n",
              "       [1],\n",
              "       [1],\n",
              "       [0],\n",
              "       [1],\n",
              "       [0],\n",
              "       [0],\n",
              "       [0],\n",
              "       [0],\n",
              "       [1],\n",
              "       [1],\n",
              "       [1],\n",
              "       [1],\n",
              "       [1],\n",
              "       [1],\n",
              "       [1],\n",
              "       [1],\n",
              "       [1],\n",
              "       [1],\n",
              "       [0],\n",
              "       [1],\n",
              "       [0],\n",
              "       [1],\n",
              "       [1],\n",
              "       [1],\n",
              "       [1],\n",
              "       [1],\n",
              "       [1],\n",
              "       [1],\n",
              "       [0],\n",
              "       [1],\n",
              "       [1],\n",
              "       [1],\n",
              "       [1],\n",
              "       [0],\n",
              "       [1],\n",
              "       [1],\n",
              "       [0],\n",
              "       [0],\n",
              "       [1],\n",
              "       [1],\n",
              "       [1],\n",
              "       [0],\n",
              "       [1],\n",
              "       [1],\n",
              "       [0],\n",
              "       [1],\n",
              "       [1],\n",
              "       [1],\n",
              "       [0],\n",
              "       [1],\n",
              "       [0],\n",
              "       [0],\n",
              "       [0],\n",
              "       [1],\n",
              "       [0],\n",
              "       [0],\n",
              "       [0],\n",
              "       [0],\n",
              "       [0],\n",
              "       [1],\n",
              "       [0],\n",
              "       [0],\n",
              "       [1],\n",
              "       [1],\n",
              "       [0],\n",
              "       [1],\n",
              "       [1],\n",
              "       [0],\n",
              "       [1],\n",
              "       [1],\n",
              "       [0],\n",
              "       [1],\n",
              "       [0],\n",
              "       [0],\n",
              "       [0],\n",
              "       [0],\n",
              "       [0],\n",
              "       [1],\n",
              "       [1],\n",
              "       [0],\n",
              "       [0],\n",
              "       [1],\n",
              "       [1]], dtype=int32)"
            ]
          },
          "metadata": {
            "tags": []
          },
          "execution_count": 561
        }
      ]
    },
    {
      "cell_type": "code",
      "metadata": {
        "colab": {
          "base_uri": "https://localhost:8080/"
        },
        "id": "veNUMoRUrjlS",
        "outputId": "b546fb20-3502-4d3b-aef7-f039898c470a"
      },
      "source": [
        "from sklearn.metrics import confusion_matrix\n",
        "cf_matrix=confusion_matrix(y_test,y_pred)\n",
        "cf_matrix"
      ],
      "execution_count": null,
      "outputs": [
        {
          "output_type": "execute_result",
          "data": {
            "text/plain": [
              "array([[148,  60],\n",
              "       [ 30, 243]])"
            ]
          },
          "metadata": {
            "tags": []
          },
          "execution_count": 562
        }
      ]
    },
    {
      "cell_type": "code",
      "metadata": {
        "colab": {
          "base_uri": "https://localhost:8080/"
        },
        "id": "Jg1W5EzgroUZ",
        "outputId": "a4cc6d80-0193-48a4-899f-4b37b2b578d4"
      },
      "source": [
        "from sklearn.metrics import accuracy_score\n",
        "accuracy_score(y_test,y_pred)"
      ],
      "execution_count": null,
      "outputs": [
        {
          "output_type": "execute_result",
          "data": {
            "text/plain": [
              "0.8128898128898129"
            ]
          },
          "metadata": {
            "tags": []
          },
          "execution_count": 563
        }
      ]
    },
    {
      "cell_type": "code",
      "metadata": {
        "colab": {
          "base_uri": "https://localhost:8080/",
          "height": 283
        },
        "id": "ZR-vavi1ruYr",
        "outputId": "0df6c6b3-8984-483c-d10b-1069f23f944e"
      },
      "source": [
        "sns.heatmap(cf_matrix, annot=True)"
      ],
      "execution_count": null,
      "outputs": [
        {
          "output_type": "execute_result",
          "data": {
            "text/plain": [
              "<matplotlib.axes._subplots.AxesSubplot at 0x7f0a9eb57b10>"
            ]
          },
          "metadata": {
            "tags": []
          },
          "execution_count": 564
        },
        {
          "output_type": "display_data",
          "data": {
            "image/png": "[encoded data removed]",
            "text/plain": [
              "<Figure size 432x288 with 2 Axes>"
            ]
          },
          "metadata": {
            "tags": [],
            "needs_background": "light"
          }
        }
      ]
    },
    {
      "cell_type": "code",
      "metadata": {
        "id": "Vwe3Rri4u5Mi"
      },
      "source": [
        ""
      ],
      "execution_count": null,
      "outputs": []
    }
  ]
}